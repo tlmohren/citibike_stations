{
 "cells": [
  {
   "cell_type": "code",
   "execution_count": 5,
   "metadata": {},
   "outputs": [],
   "source": [
    "import datetime\n",
    "import numpy as np\n",
    "import pandas\n",
    "import json\n",
    "from pathlib import Path\n",
    "import glob\n",
    "import pandas as pd \n",
    "from matplotlib.dates import HourLocator, DateFormatter\n",
    "import matplotlib.pyplot as plt"
   ]
  },
  {
   "cell_type": "code",
   "execution_count": 6,
   "metadata": {},
   "outputs": [
    {
     "data": {
      "text/plain": [
       "['/home/thomas/Projects/stationflow/data/citibike_stations_2020_08_14_14_50_22.json',\n",
       " '/home/thomas/Projects/stationflow/data/citibike_stations_2020_08_14_15_50_25.json',\n",
       " '/home/thomas/Projects/stationflow/data/citibike_stations_2020_08_15_01_50_26.json',\n",
       " '/home/thomas/Projects/stationflow/data/citibike_stations_2020_08_14_21_50_24.json',\n",
       " '/home/thomas/Projects/stationflow/data/citibike_stations_2020_08_15_05_50_23.json',\n",
       " '/home/thomas/Projects/stationflow/data/citibike_stations_2020_08_15_00_50_25.json',\n",
       " '/home/thomas/Projects/stationflow/data/citibike_stations_2020_08_15_02_50_28.json',\n",
       " '/home/thomas/Projects/stationflow/data/citibike_stations_2020_08_14_23_50_22.json',\n",
       " '/home/thomas/Projects/stationflow/data/citibike_stations_2020_08_15_04_50_21.json',\n",
       " '/home/thomas/Projects/stationflow/data/citibike_stations_2020_08_15_06_50_24.json',\n",
       " '/home/thomas/Projects/stationflow/data/citibike_stations_2020_08_14_20_50_29.json',\n",
       " '/home/thomas/Projects/stationflow/data/citibike_stations_2020_08_14_17_50_21.json',\n",
       " '/home/thomas/Projects/stationflow/data/citibike_stations_2020_08_14_22_50_29.json',\n",
       " '/home/thomas/Projects/stationflow/data/citibike_stations_2020_08_14_16_50_27.json',\n",
       " '/home/thomas/Projects/stationflow/data/citibike_stations_2020_08_15_03_50_29.json',\n",
       " '/home/thomas/Projects/stationflow/data/citibike_stations_2020_08_14_13_50_24.json',\n",
       " '/home/thomas/Projects/stationflow/data/citibike_stations_2020_08_14_18_50_26.json']"
      ]
     },
     "execution_count": 6,
     "metadata": {},
     "output_type": "execute_result"
    }
   ],
   "source": [
    "datapath = Path.cwd().parent.joinpath('data') \n",
    "data_files = glob.glob(str(datapath)+'/*')\n",
    "data_files"
   ]
  },
  {
   "cell_type": "code",
   "execution_count": 7,
   "metadata": {},
   "outputs": [],
   "source": [
    "def merge_dict(old_dict, new_dict):    \n",
    "    for station, dock_timedict in new_dict.items():\n",
    "        for dock_time, numdict in dock_timedict.items():\n",
    "        \n",
    "            if not old_dict.get(station):\n",
    "                old_dict[station] = {dock_time:numdict}\n",
    "        \n",
    "            elif dock_time not in old_dict[station]:\n",
    "                old_dict[station] = {**old_dict[station], dock_time:numdict}  \n",
    "\n",
    "    return old_dict\n",
    " \n",
    "data_dict = {}\n",
    "for file in data_files:\n",
    "    with open(file, \"r\") as read_file:\n",
    "        file_data = json.load(read_file) \n",
    "        data_dict = merge_dict(data_dict, file_data) "
   ]
  },
  {
   "cell_type": "code",
   "execution_count": 8,
   "metadata": {},
   "outputs": [
    {
     "data": {
      "text/html": [
       "<div>\n",
       "<style scoped>\n",
       "    .dataframe tbody tr th:only-of-type {\n",
       "        vertical-align: middle;\n",
       "    }\n",
       "\n",
       "    .dataframe tbody tr th {\n",
       "        vertical-align: top;\n",
       "    }\n",
       "\n",
       "    .dataframe thead th {\n",
       "        text-align: right;\n",
       "    }\n",
       "</style>\n",
       "<table border=\"1\" class=\"dataframe\">\n",
       "  <thead>\n",
       "    <tr style=\"text-align: right;\">\n",
       "      <th></th>\n",
       "      <th>station</th>\n",
       "      <th>timestamp</th>\n",
       "      <th>num_bikes_available</th>\n",
       "      <th>num_ebikes_available</th>\n",
       "    </tr>\n",
       "  </thead>\n",
       "  <tbody>\n",
       "    <tr>\n",
       "      <th>1</th>\n",
       "      <td>79</td>\n",
       "      <td>2020-08-14 13:45:58</td>\n",
       "      <td>10</td>\n",
       "      <td>1</td>\n",
       "    </tr>\n",
       "    <tr>\n",
       "      <th>2</th>\n",
       "      <td>79</td>\n",
       "      <td>2020-08-14 13:58:23</td>\n",
       "      <td>9</td>\n",
       "      <td>0</td>\n",
       "    </tr>\n",
       "    <tr>\n",
       "      <th>3</th>\n",
       "      <td>79</td>\n",
       "      <td>2020-08-14 14:17:25</td>\n",
       "      <td>8</td>\n",
       "      <td>0</td>\n",
       "    </tr>\n",
       "    <tr>\n",
       "      <th>4</th>\n",
       "      <td>79</td>\n",
       "      <td>2020-08-14 14:27:12</td>\n",
       "      <td>9</td>\n",
       "      <td>1</td>\n",
       "    </tr>\n",
       "    <tr>\n",
       "      <th>5</th>\n",
       "      <td>79</td>\n",
       "      <td>2020-08-14 14:30:37</td>\n",
       "      <td>9</td>\n",
       "      <td>0</td>\n",
       "    </tr>\n",
       "  </tbody>\n",
       "</table>\n",
       "</div>"
      ],
      "text/plain": [
       "  station           timestamp  num_bikes_available  num_ebikes_available\n",
       "1      79 2020-08-14 13:45:58                   10                     1\n",
       "2      79 2020-08-14 13:58:23                    9                     0\n",
       "3      79 2020-08-14 14:17:25                    8                     0\n",
       "4      79 2020-08-14 14:27:12                    9                     1\n",
       "5      79 2020-08-14 14:30:37                    9                     0"
      ]
     },
     "execution_count": 8,
     "metadata": {},
     "output_type": "execute_result"
    }
   ],
   "source": [
    "dict_of_df = {k: pd.DataFrame(v) for k,v in data_dict.items()}\n",
    "df = pd.concat(dict_of_df, axis=1).transpose() \n",
    "\n",
    "df.reset_index(level=[0,1], inplace=True)\n",
    "df['level_1'] = df.level_1.apply(lambda x: datetime.datetime.fromtimestamp(int(x)) )\n",
    "\n",
    "df.rename(columns={'level_0':'station', 'level_1':'timestamp'}, inplace=True)\n",
    "\n",
    "bool_active = df['timestamp'] > np.datetime64('2020-01-01 12:00:00')\n",
    "df = df[bool_active]\n",
    "\n",
    "df.head()"
   ]
  },
  {
   "cell_type": "code",
   "execution_count": null,
   "metadata": {},
   "outputs": [],
   "source": [
    "station_code = '3671' # 81st and 2nd\n",
    "# station_code = '3370' # 78th and 2nd\n",
    "# station_code = '3131' # 68th and 1st \n",
    "\n",
    "bool_station = df['station'] == station_code# '79'\n",
    "\n",
    "plt.figure()\n",
    "ax = df[bool_station].plot(x='timestamp')\n",
    " \n",
    "ax.xaxis.set_major_locator(HourLocator(interval=2)) # tick every two hours\n",
    "ax.xaxis.set_major_formatter(DateFormatter('%H:%m'))\n",
    "\n",
    "ax.set_xlim([\n",
    "    np.datetime64('2020-08-14 12:00:00'),\n",
    "    np.datetime64('2020-08-15 12:00:00')])"
   ]
  },
  {
   "cell_type": "code",
   "execution_count": 17,
   "metadata": {},
   "outputs": [
    {
     "name": "stdout",
     "output_type": "stream",
     "text": [
      "3671\n",
      "3370\n",
      "3131\n"
     ]
    },
    {
     "data": {
      "image/png": "[encoded data removed]",
      "text/plain": [
       "<Figure size 432x288 with 1 Axes>"
      ]
     },
     "metadata": {
      "needs_background": "light"
     },
     "output_type": "display_data"
    }
   ],
   "source": [
    "fig, ax = plt.subplots(1,1)\n",
    "\n",
    "station_list = ['3671','3370','3131']\n",
    "# station_list = ['3671']\n",
    "# for station in df['station'].unique():\n",
    "\n",
    "for station in station_list:\n",
    "    bool_station = df['station'] == station\n",
    "    df[bool_station].plot(ax=ax, x='timestamp', y='num_bikes_available', legend=False)\n",
    "    print(station)\n",
    "\n",
    "ax.set_xlim([\n",
    "    np.datetime64('2020-08-14 12:00:00'),\n",
    "    np.datetime64('2020-08-15 12:00:00')])\n",
    " \n",
    "ax.xaxis.set_major_locator(HourLocator(interval=2)) # tick every two hours\n",
    "ax.xaxis.set_major_formatter(DateFormatter('%H:%m'))\n"
   ]
  }
 ],
 "metadata": {
  "kernelspec": {
   "display_name": "Python 3",
   "language": "python",
   "name": "python3"
  },
  "language_info": {
   "codemirror_mode": {
    "name": "ipython",
    "version": 3
   },
   "file_extension": ".py",
   "mimetype": "text/x-python",
   "name": "python",
   "nbconvert_exporter": "python",
   "pygments_lexer": "ipython3",
   "version": "3.8.2"
  }
 },
 "nbformat": 4,
 "nbformat_minor": 4
}
