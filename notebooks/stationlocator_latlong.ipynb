{
 "cells": [
  {
   "cell_type": "code",
   "execution_count": 1,
   "metadata": {},
   "outputs": [],
   "source": [
    "import pandas as pd\n",
    "import numpy as np\n",
    "import datetime\n",
    "import json"
   ]
  },
  {
   "cell_type": "code",
   "execution_count": 2,
   "metadata": {},
   "outputs": [],
   "source": [
    "# URLS = json.loads('citibike_urls.json')"
   ]
  },
  {
   "cell_type": "code",
   "execution_count": 3,
   "metadata": {},
   "outputs": [],
   "source": [
    "import requests\n",
    "\n",
    "url = \"http://gbfs.citibikenyc.com/gbfs/gbfs.json\"\n",
    "data_urls = requests.get(url).json()\n",
    "# data_urls"
   ]
  },
  {
   "cell_type": "code",
   "execution_count": 4,
   "metadata": {},
   "outputs": [
    {
     "name": "stdout",
     "output_type": "stream",
     "text": [
      "Last update was: 2020-09-04 07:39:25\n"
     ]
    }
   ],
   "source": [
    "# data\n",
    "posix_stamp = data_urls['last_updated']\n",
    "last_update = datetime.datetime.fromtimestamp(posix_stamp)\n",
    "print(f\"Last update was: {last_update}\") "
   ]
  },
  {
   "cell_type": "code",
   "execution_count": 5,
   "metadata": {},
   "outputs": [],
   "source": [
    "station_status_url =data_urls['data']['en']['feeds'][2]['url']\n",
    "station_information_url = data_urls['data']['en']['feeds'][1]['url']"
   ]
  },
  {
   "cell_type": "code",
   "execution_count": 12,
   "metadata": {},
   "outputs": [],
   "source": [
    "station_information_url\n",
    "\n",
    "station_information = requests.get(station_information_url).json()\n",
    "# station_information"
   ]
  },
  {
   "cell_type": "code",
   "execution_count": 7,
   "metadata": {},
   "outputs": [],
   "source": [
    "house_latlong = [40.774886, -73.955055]\n",
    "house_latlong = [40.772858, -73.955877] # 78th street\n",
    "# house_latlong = [40.766103, -73.960410] # 68th street"
   ]
  },
  {
   "cell_type": "code",
   "execution_count": 8,
   "metadata": {},
   "outputs": [],
   "source": [
    "closest_dist = 1.0\n",
    "\n",
    "for station in station_information['data']['stations']:\n",
    "    dy = station['lat'] - house_latlong[0]\n",
    "    dx = station['lon'] - house_latlong[1]\n",
    "    dist = np.sqrt(dy**2+dx**2)\n",
    "    \n",
    "    if dist < closest_dist:\n",
    "        closest_station = station\n",
    "        closest_dist = dist "
   ]
  },
  {
   "cell_type": "code",
   "execution_count": 9,
   "metadata": {},
   "outputs": [],
   "source": [
    "# station_information['data']['stations'][0]"
   ]
  },
  {
   "cell_type": "code",
   "execution_count": 10,
   "metadata": {},
   "outputs": [
    {
     "data": {
      "text/plain": [
       "{'name': 'E 78 St & 2 Ave',\n",
       " 'rental_url': 'http://app.citibikenyc.com/S6Lr/IBV092JufD?station_id=3370',\n",
       " 'short_name': '7057.07',\n",
       " 'eightd_has_key_dispenser': False,\n",
       " 'lat': 40.7727966,\n",
       " 'station_id': '3370',\n",
       " 'electric_bike_surcharge_waiver': False,\n",
       " 'region_id': '71',\n",
       " 'capacity': 25,\n",
       " 'external_id': '66de2274-0aca-11e7-82f6-3863bb44ef7c',\n",
       " 'rental_methods': ['KEY', 'CREDITCARD'],\n",
       " 'has_kiosk': True,\n",
       " 'station_type': 'classic',\n",
       " 'eightd_station_services': [],\n",
       " 'legacy_id': '3370',\n",
       " 'lon': -73.95577801}"
      ]
     },
     "execution_count": 10,
     "metadata": {},
     "output_type": "execute_result"
    }
   ],
   "source": [
    "closest_station"
   ]
  },
  {
   "cell_type": "code",
   "execution_count": 11,
   "metadata": {},
   "outputs": [
    {
     "ename": "NameError",
     "evalue": "name 'station_status' is not defined",
     "output_type": "error",
     "traceback": [
      "\u001b[0;31m---------------------------------------------------------------------------\u001b[0m",
      "\u001b[0;31mNameError\u001b[0m                                 Traceback (most recent call last)",
      "\u001b[0;32m<ipython-input-11-a2b74dec2c6a>\u001b[0m in \u001b[0;36m<module>\u001b[0;34m\u001b[0m\n\u001b[0;32m----> 1\u001b[0;31m \u001b[0mstation_status\u001b[0m\u001b[0;34m[\u001b[0m\u001b[0;34m'data'\u001b[0m\u001b[0;34m]\u001b[0m\u001b[0;34m[\u001b[0m\u001b[0;34m'stations'\u001b[0m\u001b[0;34m]\u001b[0m\u001b[0;34m\u001b[0m\u001b[0;34m\u001b[0m\u001b[0m\n\u001b[0m",
      "\u001b[0;31mNameError\u001b[0m: name 'station_status' is not defined"
     ]
    }
   ],
   "source": [
    "station_status['data']['stations']"
   ]
  },
  {
   "cell_type": "code",
   "execution_count": null,
   "metadata": {},
   "outputs": [],
   "source": [
    "\n",
    "station_status = requests.get(station_status_url).json()"
   ]
  },
  {
   "cell_type": "code",
   "execution_count": null,
   "metadata": {},
   "outputs": [],
   "source": [
    "for station in station_status['data']['stations']:\n",
    "#     print(station['station_id'])\n",
    "    if station['station_id'] == '3671':\n",
    "        print(station)\n"
   ]
  },
  {
   "cell_type": "code",
   "execution_count": null,
   "metadata": {},
   "outputs": [],
   "source": [
    "# import time\n",
    "\n",
    "\n",
    "# # dictlist = station_status['data']['stations']\n",
    "\n",
    "# # home_station = next(item for item in dictlist if item['station_id'] == \"3671\")\n",
    "# # last_time = home_station['last_reported']\n",
    "# last_time = 0 \n",
    "\n",
    "# # num_bikes = []\n",
    "# bike_data = []\n",
    "# for i in range(100):\n",
    "#     station_status = requests.get(station_status_url).json() \n",
    "#     dictlist = station_status['data']['stations']\n",
    "#     home_station = next(item for item in dictlist if item['station_id'] == \"3671\")\n",
    "    \n",
    "#     if home_station['last_reported'] != last_time: \n",
    "#         last_time = home_station['last_reported']\n",
    "# #         bike_data = [last_time, home_station['num_bikes_available']]\n",
    "#         bike_data.append([last_time, home_station['num_bikes_available']])\n",
    "#         print(bike_data)\n",
    "#     time.sleep(10)\n",
    "#     print(i, last_time)\n",
    "#     print(bike_data)"
   ]
  },
  {
   "cell_type": "code",
   "execution_count": null,
   "metadata": {},
   "outputs": [],
   "source": [
    "bike_data\n"
   ]
  },
  {
   "cell_type": "code",
   "execution_count": null,
   "metadata": {},
   "outputs": [],
   "source": [
    "pd.DataFrame(kj)"
   ]
  },
  {
   "cell_type": "code",
   "execution_count": null,
   "metadata": {},
   "outputs": [],
   "source": [
    "pd.Data"
   ]
  }
 ],
 "metadata": {
  "kernelspec": {
   "display_name": "Python 3",
   "language": "python",
   "name": "python3"
  },
  "language_info": {
   "codemirror_mode": {
    "name": "ipython",
    "version": 3
   },
   "file_extension": ".py",
   "mimetype": "text/x-python",
   "name": "python",
   "nbconvert_exporter": "python",
   "pygments_lexer": "ipython3",
   "version": "3.8.2"
  }
 },
 "nbformat": 4,
 "nbformat_minor": 4
}
