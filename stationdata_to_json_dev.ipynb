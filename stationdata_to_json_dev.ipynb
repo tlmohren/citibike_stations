{
 "cells": [
  {
   "cell_type": "code",
   "execution_count": 11,
   "metadata": {},
   "outputs": [],
   "source": [
    "import pandas as pd\n",
    "import numpy as np\n",
    "import datetime\n",
    "import json\n",
    "import requests\n",
    "import time\n",
    "import sys\n",
    "\n",
    "    \n",
    "from objsize import get_deep_size\n",
    "from pympler import asizeof\n"
   ]
  },
  {
   "cell_type": "code",
   "execution_count": 2,
   "metadata": {},
   "outputs": [],
   "source": [
    "url = \"http://gbfs.citibikenyc.com/gbfs/gbfs.json\"\n",
    "\n",
    "data_urls = requests.get(url).json()\n",
    "station_status_url =data_urls['data']['en']['feeds'][2]['url']"
   ]
  },
  {
   "cell_type": "markdown",
   "metadata": {},
   "source": [
    "# Inspect single station data"
   ]
  },
  {
   "cell_type": "code",
   "execution_count": 3,
   "metadata": {},
   "outputs": [
    {
     "data": {
      "text/plain": [
       "{'num_bikes_disabled': 0,\n",
       " 'last_reported': 86400,\n",
       " 'is_installed': 0,\n",
       " 'station_id': '72',\n",
       " 'legacy_id': '72',\n",
       " 'is_renting': 0,\n",
       " 'eightd_has_available_keys': False,\n",
       " 'num_ebikes_available': 0,\n",
       " 'num_docks_disabled': 0,\n",
       " 'is_returning': 0,\n",
       " 'station_status': 'out_of_service',\n",
       " 'num_bikes_available': 0,\n",
       " 'num_docks_available': 0}"
      ]
     },
     "execution_count": 3,
     "metadata": {},
     "output_type": "execute_result"
    }
   ],
   "source": [
    "station_status = requests.get(station_status_url).json()\n",
    "\n",
    "a_station = station_status['data']['stations'][0]\n",
    "a_station['station_id']\n",
    "a_station['last_reported']\n",
    "a_station\n",
    "a_station "
   ]
  },
  {
   "cell_type": "markdown",
   "metadata": {},
   "source": [
    "# Instantiate the data dictionary"
   ]
  },
  {
   "cell_type": "code",
   "execution_count": 4,
   "metadata": {},
   "outputs": [],
   "source": [
    "data_dict = {}\n",
    "for station in station_status['data']['stations']:\n",
    "    station_id = station['station_id']\n",
    "    station_time = station['last_reported']\n",
    "    \n",
    "    subsubdict = {'num_bikes_available': station['num_bikes_available'], \n",
    "           'num_ebikes_available': station['num_ebikes_available'], \n",
    "            }\n",
    "    subdict = {station_time: subsubdict}\n",
    "    data_dict[station_id] = subdict "
   ]
  },
  {
   "cell_type": "markdown",
   "metadata": {},
   "source": [
    "# Request station data iteratively"
   ]
  },
  {
   "cell_type": "code",
   "execution_count": 12,
   "metadata": {},
   "outputs": [
    {
     "name": "stdout",
     "output_type": "stream",
     "text": [
      "iteration: 0, data_dict size: 702624\n",
      "iteration: 0, data_dict size: 763528\n",
      "iteration: 10, data_dict size: 711064\n",
      "iteration: 10, data_dict size: 771968\n",
      "iteration: 20, data_dict size: 721216\n",
      "iteration: 20, data_dict size: 782120\n",
      "iteration: 30, data_dict size: 730184\n",
      "iteration: 30, data_dict size: 791088\n",
      "iteration: 40, data_dict size: 737832\n",
      "iteration: 40, data_dict size: 798736\n",
      "iteration: 50, data_dict size: 746560\n",
      "iteration: 50, data_dict size: 807464\n",
      "iteration: 60, data_dict size: 755136\n",
      "iteration: 60, data_dict size: 816040\n",
      "iteration: 70, data_dict size: 766880\n",
      "iteration: 70, data_dict size: 827784\n",
      "iteration: 80, data_dict size: 779160\n",
      "iteration: 80, data_dict size: 840064\n",
      "iteration: 90, data_dict size: 804540\n",
      "iteration: 90, data_dict size: 865448\n"
     ]
    },
    {
     "ename": "NameError",
     "evalue": "name 'my_object' is not defined",
     "output_type": "error",
     "traceback": [
      "\u001b[0;31m---------------------------------------------------------------------------\u001b[0m",
      "\u001b[0;31mNameError\u001b[0m                                 Traceback (most recent call last)",
      "\u001b[0;32m<ipython-input-12-6c7b7765ab4d>\u001b[0m in \u001b[0;36m<module>\u001b[0;34m\u001b[0m\n\u001b[1;32m     20\u001b[0m         \u001b[0mprint\u001b[0m\u001b[0;34m(\u001b[0m\u001b[0;34mf\"iteration: {i}, data_dict size: {asizeof.asizeof(data_dict)}\"\u001b[0m \u001b[0;34m)\u001b[0m\u001b[0;34m\u001b[0m\u001b[0;34m\u001b[0m\u001b[0m\n\u001b[1;32m     21\u001b[0m \u001b[0;34m\u001b[0m\u001b[0m\n\u001b[0;32m---> 22\u001b[0;31m \u001b[0masizeof\u001b[0m\u001b[0;34m.\u001b[0m\u001b[0masizeof\u001b[0m\u001b[0;34m(\u001b[0m\u001b[0mmy_object\u001b[0m\u001b[0;34m)\u001b[0m\u001b[0;34m\u001b[0m\u001b[0;34m\u001b[0m\u001b[0m\n\u001b[0m\u001b[1;32m     23\u001b[0m \u001b[0;34m\u001b[0m\u001b[0m\n\u001b[1;32m     24\u001b[0m \u001b[0;31m#         dic3.__sizeof__()\u001b[0m\u001b[0;34m\u001b[0m\u001b[0;34m\u001b[0m\u001b[0;34m\u001b[0m\u001b[0m\n",
      "\u001b[0;31mNameError\u001b[0m: name 'my_object' is not defined"
     ]
    }
   ],
   "source": [
    "for i in range(100):\n",
    "    station_status = requests.get(station_status_url).json()\n",
    "    \n",
    "    for station in station_status['data']['stations']:\n",
    "         \n",
    "        station_id = station['station_id']\n",
    "        station_time = station['last_reported']\n",
    "        if station_time not in data_dict[station_id]:\n",
    "            subsubdict = {'num_bikes_available': station['num_bikes_available'], \n",
    "                   'num_ebikes_available': station['num_ebikes_available'], \n",
    "                    }\n",
    "            subdict = {station_time: subsubdict}\n",
    "            olddict = data_dict[station_id]\n",
    "            data_dict[station_id] = {**olddict, **subdict}\n",
    "    time.sleep(1)\n",
    "    \n",
    "    if i%10 == 0: \n",
    "#         print(f\"iteration: {i}, data_dict size: {data_dict.__sizeof__()}\" )\n",
    "        print(f\"iteration: {i}, data_dict size: {get_deep_size(data_dict)}\" )\n",
    "        print(f\"iteration: {i}, data_dict size: {asizeof.asizeof(data_dict)}\" )\n",
    "     \n",
    "        \n",
    "#         dic3.__sizeof__()"
   ]
  },
  {
   "cell_type": "markdown",
   "metadata": {},
   "source": [
    "# Inspect dictionary"
   ]
  },
  {
   "cell_type": "code",
   "execution_count": 16,
   "metadata": {},
   "outputs": [
    {
     "name": "stdout",
     "output_type": "stream",
     "text": [
      "2020-08-12 20:39:54\n"
     ]
    }
   ],
   "source": [
    "for key, item in data_dict['247'].items():\n",
    "    print(datetime.datetime.fromtimestamp(key) )"
   ]
  },
  {
   "cell_type": "code",
   "execution_count": 17,
   "metadata": {},
   "outputs": [
    {
     "data": {
      "text/html": [
       "<div>\n",
       "<style scoped>\n",
       "    .dataframe tbody tr th:only-of-type {\n",
       "        vertical-align: middle;\n",
       "    }\n",
       "\n",
       "    .dataframe tbody tr th {\n",
       "        vertical-align: top;\n",
       "    }\n",
       "\n",
       "    .dataframe thead th {\n",
       "        text-align: right;\n",
       "    }\n",
       "</style>\n",
       "<table border=\"1\" class=\"dataframe\">\n",
       "  <thead>\n",
       "    <tr style=\"text-align: right;\">\n",
       "      <th></th>\n",
       "      <th></th>\n",
       "      <th>num_bikes_available</th>\n",
       "      <th>num_ebikes_available</th>\n",
       "    </tr>\n",
       "  </thead>\n",
       "  <tbody>\n",
       "    <tr>\n",
       "      <th>72</th>\n",
       "      <th>86400</th>\n",
       "      <td>0</td>\n",
       "      <td>0</td>\n",
       "    </tr>\n",
       "    <tr>\n",
       "      <th rowspan=\"2\" valign=\"top\">79</th>\n",
       "      <th>1597278788</th>\n",
       "      <td>18</td>\n",
       "      <td>0</td>\n",
       "    </tr>\n",
       "    <tr>\n",
       "      <th>1597279401</th>\n",
       "      <td>17</td>\n",
       "      <td>0</td>\n",
       "    </tr>\n",
       "    <tr>\n",
       "      <th>82</th>\n",
       "      <th>1597278799</th>\n",
       "      <td>17</td>\n",
       "      <td>0</td>\n",
       "    </tr>\n",
       "    <tr>\n",
       "      <th>83</th>\n",
       "      <th>1597278877</th>\n",
       "      <td>40</td>\n",
       "      <td>0</td>\n",
       "    </tr>\n",
       "    <tr>\n",
       "      <th>...</th>\n",
       "      <th>...</th>\n",
       "      <td>...</td>\n",
       "      <td>...</td>\n",
       "    </tr>\n",
       "    <tr>\n",
       "      <th>4109</th>\n",
       "      <th>86400</th>\n",
       "      <td>0</td>\n",
       "      <td>0</td>\n",
       "    </tr>\n",
       "    <tr>\n",
       "      <th>4112</th>\n",
       "      <th>86400</th>\n",
       "      <td>0</td>\n",
       "      <td>0</td>\n",
       "    </tr>\n",
       "    <tr>\n",
       "      <th>4113</th>\n",
       "      <th>86400</th>\n",
       "      <td>0</td>\n",
       "      <td>0</td>\n",
       "    </tr>\n",
       "    <tr>\n",
       "      <th>4114</th>\n",
       "      <th>86400</th>\n",
       "      <td>0</td>\n",
       "      <td>0</td>\n",
       "    </tr>\n",
       "    <tr>\n",
       "      <th>4115</th>\n",
       "      <th>86400</th>\n",
       "      <td>0</td>\n",
       "      <td>0</td>\n",
       "    </tr>\n",
       "  </tbody>\n",
       "</table>\n",
       "<p>1960 rows × 2 columns</p>\n",
       "</div>"
      ],
      "text/plain": [
       "                 num_bikes_available  num_ebikes_available\n",
       "72   86400                         0                     0\n",
       "79   1597278788                   18                     0\n",
       "     1597279401                   17                     0\n",
       "82   1597278799                   17                     0\n",
       "83   1597278877                   40                     0\n",
       "...                              ...                   ...\n",
       "4109 86400                         0                     0\n",
       "4112 86400                         0                     0\n",
       "4113 86400                         0                     0\n",
       "4114 86400                         0                     0\n",
       "4115 86400                         0                     0\n",
       "\n",
       "[1960 rows x 2 columns]"
      ]
     },
     "execution_count": 17,
     "metadata": {},
     "output_type": "execute_result"
    }
   ],
   "source": [
    "dict_of_df = {k: pd.DataFrame(v) for k,v in data_dict.items()}\n",
    "df = pd.concat(dict_of_df, axis=1).transpose()\n",
    "df"
   ]
  },
  {
   "cell_type": "markdown",
   "metadata": {},
   "source": [
    "# Save dictionary"
   ]
  },
  {
   "cell_type": "code",
   "execution_count": 13,
   "metadata": {},
   "outputs": [],
   "source": [
    "with open(\"station_data.json\", \"w\") as outfile:  \n",
    "    json.dump(data_dict, outfile)  "
   ]
  },
  {
   "cell_type": "code",
   "execution_count": 22,
   "metadata": {},
   "outputs": [],
   "source": [
    "now = datetime.datetime.now()"
   ]
  },
  {
   "cell_type": "code",
   "execution_count": 20,
   "metadata": {},
   "outputs": [],
   "source": [
    "tomorrow_noon = datetime.datetime(2020,8,13,12,0,0)"
   ]
  },
  {
   "cell_type": "code",
   "execution_count": 33,
   "metadata": {},
   "outputs": [
    {
     "data": {
      "text/plain": [
       "0.08987929894179894"
      ]
     },
     "execution_count": 33,
     "metadata": {},
     "output_type": "execute_result"
    }
   ],
   "source": [
    "dt = tomorrow_noon - now\n",
    "# dt.days\n",
    "dt.seconds / 3600/24 /7"
   ]
  },
  {
   "cell_type": "code",
   "execution_count": 31,
   "metadata": {},
   "outputs": [
    {
     "name": "stdout",
     "output_type": "stream",
     "text": [
      "1\n",
      "2\n",
      "3\n",
      "4\n",
      "5\n",
      "6\n",
      "7\n",
      "8\n",
      "9\n",
      "10\n"
     ]
    }
   ],
   "source": [
    "i = 0\n",
    "\n",
    "while True:\n",
    "    i = i+1\n",
    "    \n",
    "    print(i)\n",
    "    if i >=10:\n",
    "        break"
   ]
  },
  {
   "cell_type": "code",
   "execution_count": null,
   "metadata": {},
   "outputs": [],
   "source": []
  }
 ],
 "metadata": {
  "kernelspec": {
   "display_name": "Python 3",
   "language": "python",
   "name": "python3"
  },
  "language_info": {
   "codemirror_mode": {
    "name": "ipython",
    "version": 3
   },
   "file_extension": ".py",
   "mimetype": "text/x-python",
   "name": "python",
   "nbconvert_exporter": "python",
   "pygments_lexer": "ipython3",
   "version": "3.8.2"
  }
 },
 "nbformat": 4,
 "nbformat_minor": 4
}
